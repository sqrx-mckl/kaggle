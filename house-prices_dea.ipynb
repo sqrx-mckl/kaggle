{
 "nbformat": 4,
 "nbformat_minor": 2,
 "metadata": {
  "language_info": {
   "name": "python",
   "codemirror_mode": {
    "name": "ipython",
    "version": 3
   },
   "version": "3.7.4"
  },
  "orig_nbformat": 2,
  "file_extension": ".py",
  "mimetype": "text/x-python",
  "name": "python",
  "npconvert_exporter": "python",
  "pygments_lexer": "ipython3",
  "version": 3
 },
 "cells": [
  {
   "cell_type": "code",
   "execution_count": 26,
   "metadata": {},
   "outputs": [],
   "source": [
    "import pandas as pd\n",
    "import seaborn as sns\n",
    "import matplotlib.pyplot as plt\n",
    "from typing import List\n",
    "\n",
    "test_fp = r'data/house-prices-advanced-regression-techniques/test.csv'"
   ]
  },
  {
   "cell_type": "code",
   "execution_count": 58,
   "metadata": {},
   "outputs": [
    {
     "name": "stdout",
     "output_type": "stream",
     "text": "object     43\nint64      25\nfloat64    11\ndtype: int64\n"
    }
   ],
   "source": [
    "df = pd.read_csv(test_fp, index_col=0)\n",
    "\n",
    "df_num = df.select_dtypes(exclude='object')\n",
    "df_obj = df.select_dtypes(include='object')\n",
    "\n",
    "print(df.dtypes.value_counts())"
   ]
  },
  {
   "cell_type": "code",
   "execution_count": 59,
   "metadata": {},
   "outputs": [
    {
     "data": {
      "text/html": "<div>\n<style scoped>\n    .dataframe tbody tr th:only-of-type {\n        vertical-align: middle;\n    }\n\n    .dataframe tbody tr th {\n        vertical-align: top;\n    }\n\n    .dataframe thead th {\n        text-align: right;\n    }\n</style>\n<table border=\"1\" class=\"dataframe\">\n  <thead>\n    <tr style=\"text-align: right;\">\n      <th></th>\n      <th>MSSubClass</th>\n      <th>LotFrontage</th>\n      <th>LotArea</th>\n      <th>OverallQual</th>\n      <th>OverallCond</th>\n      <th>YearBuilt</th>\n      <th>YearRemodAdd</th>\n      <th>MasVnrArea</th>\n      <th>BsmtFinSF1</th>\n      <th>BsmtFinSF2</th>\n      <th>...</th>\n      <th>GarageArea</th>\n      <th>WoodDeckSF</th>\n      <th>OpenPorchSF</th>\n      <th>EnclosedPorch</th>\n      <th>3SsnPorch</th>\n      <th>ScreenPorch</th>\n      <th>PoolArea</th>\n      <th>MiscVal</th>\n      <th>MoSold</th>\n      <th>YrSold</th>\n    </tr>\n  </thead>\n  <tbody>\n    <tr>\n      <th>count</th>\n      <td>1459.000000</td>\n      <td>1232.000000</td>\n      <td>1459.000000</td>\n      <td>1459.000000</td>\n      <td>1459.000000</td>\n      <td>1459.000000</td>\n      <td>1459.000000</td>\n      <td>1444.000000</td>\n      <td>1458.000000</td>\n      <td>1458.000000</td>\n      <td>...</td>\n      <td>1458.000000</td>\n      <td>1459.000000</td>\n      <td>1459.000000</td>\n      <td>1459.000000</td>\n      <td>1459.000000</td>\n      <td>1459.000000</td>\n      <td>1459.000000</td>\n      <td>1459.000000</td>\n      <td>1459.000000</td>\n      <td>1459.000000</td>\n    </tr>\n    <tr>\n      <th>mean</th>\n      <td>57.378341</td>\n      <td>68.580357</td>\n      <td>9819.161069</td>\n      <td>6.078821</td>\n      <td>5.553804</td>\n      <td>1971.357779</td>\n      <td>1983.662783</td>\n      <td>100.709141</td>\n      <td>439.203704</td>\n      <td>52.619342</td>\n      <td>...</td>\n      <td>472.768861</td>\n      <td>93.174777</td>\n      <td>48.313914</td>\n      <td>24.243317</td>\n      <td>1.794380</td>\n      <td>17.064428</td>\n      <td>1.744345</td>\n      <td>58.167923</td>\n      <td>6.104181</td>\n      <td>2007.769705</td>\n    </tr>\n    <tr>\n      <th>std</th>\n      <td>42.746880</td>\n      <td>22.376841</td>\n      <td>4955.517327</td>\n      <td>1.436812</td>\n      <td>1.113740</td>\n      <td>30.390071</td>\n      <td>21.130467</td>\n      <td>177.625900</td>\n      <td>455.268042</td>\n      <td>176.753926</td>\n      <td>...</td>\n      <td>217.048611</td>\n      <td>127.744882</td>\n      <td>68.883364</td>\n      <td>67.227765</td>\n      <td>20.207842</td>\n      <td>56.609763</td>\n      <td>30.491646</td>\n      <td>630.806978</td>\n      <td>2.722432</td>\n      <td>1.301740</td>\n    </tr>\n    <tr>\n      <th>min</th>\n      <td>20.000000</td>\n      <td>21.000000</td>\n      <td>1470.000000</td>\n      <td>1.000000</td>\n      <td>1.000000</td>\n      <td>1879.000000</td>\n      <td>1950.000000</td>\n      <td>0.000000</td>\n      <td>0.000000</td>\n      <td>0.000000</td>\n      <td>...</td>\n      <td>0.000000</td>\n      <td>0.000000</td>\n      <td>0.000000</td>\n      <td>0.000000</td>\n      <td>0.000000</td>\n      <td>0.000000</td>\n      <td>0.000000</td>\n      <td>0.000000</td>\n      <td>1.000000</td>\n      <td>2006.000000</td>\n    </tr>\n    <tr>\n      <th>25%</th>\n      <td>20.000000</td>\n      <td>58.000000</td>\n      <td>7391.000000</td>\n      <td>5.000000</td>\n      <td>5.000000</td>\n      <td>1953.000000</td>\n      <td>1963.000000</td>\n      <td>0.000000</td>\n      <td>0.000000</td>\n      <td>0.000000</td>\n      <td>...</td>\n      <td>318.000000</td>\n      <td>0.000000</td>\n      <td>0.000000</td>\n      <td>0.000000</td>\n      <td>0.000000</td>\n      <td>0.000000</td>\n      <td>0.000000</td>\n      <td>0.000000</td>\n      <td>4.000000</td>\n      <td>2007.000000</td>\n    </tr>\n    <tr>\n      <th>50%</th>\n      <td>50.000000</td>\n      <td>67.000000</td>\n      <td>9399.000000</td>\n      <td>6.000000</td>\n      <td>5.000000</td>\n      <td>1973.000000</td>\n      <td>1992.000000</td>\n      <td>0.000000</td>\n      <td>350.500000</td>\n      <td>0.000000</td>\n      <td>...</td>\n      <td>480.000000</td>\n      <td>0.000000</td>\n      <td>28.000000</td>\n      <td>0.000000</td>\n      <td>0.000000</td>\n      <td>0.000000</td>\n      <td>0.000000</td>\n      <td>0.000000</td>\n      <td>6.000000</td>\n      <td>2008.000000</td>\n    </tr>\n    <tr>\n      <th>75%</th>\n      <td>70.000000</td>\n      <td>80.000000</td>\n      <td>11517.500000</td>\n      <td>7.000000</td>\n      <td>6.000000</td>\n      <td>2001.000000</td>\n      <td>2004.000000</td>\n      <td>164.000000</td>\n      <td>753.500000</td>\n      <td>0.000000</td>\n      <td>...</td>\n      <td>576.000000</td>\n      <td>168.000000</td>\n      <td>72.000000</td>\n      <td>0.000000</td>\n      <td>0.000000</td>\n      <td>0.000000</td>\n      <td>0.000000</td>\n      <td>0.000000</td>\n      <td>8.000000</td>\n      <td>2009.000000</td>\n    </tr>\n    <tr>\n      <th>max</th>\n      <td>190.000000</td>\n      <td>200.000000</td>\n      <td>56600.000000</td>\n      <td>10.000000</td>\n      <td>9.000000</td>\n      <td>2010.000000</td>\n      <td>2010.000000</td>\n      <td>1290.000000</td>\n      <td>4010.000000</td>\n      <td>1526.000000</td>\n      <td>...</td>\n      <td>1488.000000</td>\n      <td>1424.000000</td>\n      <td>742.000000</td>\n      <td>1012.000000</td>\n      <td>360.000000</td>\n      <td>576.000000</td>\n      <td>800.000000</td>\n      <td>17000.000000</td>\n      <td>12.000000</td>\n      <td>2010.000000</td>\n    </tr>\n  </tbody>\n</table>\n<p>8 rows × 36 columns</p>\n</div>",
      "text/plain": "        MSSubClass  LotFrontage       LotArea  OverallQual  OverallCond  \\\ncount  1459.000000  1232.000000   1459.000000  1459.000000  1459.000000   \nmean     57.378341    68.580357   9819.161069     6.078821     5.553804   \nstd      42.746880    22.376841   4955.517327     1.436812     1.113740   \nmin      20.000000    21.000000   1470.000000     1.000000     1.000000   \n25%      20.000000    58.000000   7391.000000     5.000000     5.000000   \n50%      50.000000    67.000000   9399.000000     6.000000     5.000000   \n75%      70.000000    80.000000  11517.500000     7.000000     6.000000   \nmax     190.000000   200.000000  56600.000000    10.000000     9.000000   \n\n         YearBuilt  YearRemodAdd   MasVnrArea   BsmtFinSF1   BsmtFinSF2  ...  \\\ncount  1459.000000   1459.000000  1444.000000  1458.000000  1458.000000  ...   \nmean   1971.357779   1983.662783   100.709141   439.203704    52.619342  ...   \nstd      30.390071     21.130467   177.625900   455.268042   176.753926  ...   \nmin    1879.000000   1950.000000     0.000000     0.000000     0.000000  ...   \n25%    1953.000000   1963.000000     0.000000     0.000000     0.000000  ...   \n50%    1973.000000   1992.000000     0.000000   350.500000     0.000000  ...   \n75%    2001.000000   2004.000000   164.000000   753.500000     0.000000  ...   \nmax    2010.000000   2010.000000  1290.000000  4010.000000  1526.000000  ...   \n\n        GarageArea   WoodDeckSF  OpenPorchSF  EnclosedPorch    3SsnPorch  \\\ncount  1458.000000  1459.000000  1459.000000    1459.000000  1459.000000   \nmean    472.768861    93.174777    48.313914      24.243317     1.794380   \nstd     217.048611   127.744882    68.883364      67.227765    20.207842   \nmin       0.000000     0.000000     0.000000       0.000000     0.000000   \n25%     318.000000     0.000000     0.000000       0.000000     0.000000   \n50%     480.000000     0.000000    28.000000       0.000000     0.000000   \n75%     576.000000   168.000000    72.000000       0.000000     0.000000   \nmax    1488.000000  1424.000000   742.000000    1012.000000   360.000000   \n\n       ScreenPorch     PoolArea       MiscVal       MoSold       YrSold  \ncount  1459.000000  1459.000000   1459.000000  1459.000000  1459.000000  \nmean     17.064428     1.744345     58.167923     6.104181  2007.769705  \nstd      56.609763    30.491646    630.806978     2.722432     1.301740  \nmin       0.000000     0.000000      0.000000     1.000000  2006.000000  \n25%       0.000000     0.000000      0.000000     4.000000  2007.000000  \n50%       0.000000     0.000000      0.000000     6.000000  2008.000000  \n75%       0.000000     0.000000      0.000000     8.000000  2009.000000  \nmax     576.000000   800.000000  17000.000000    12.000000  2010.000000  \n\n[8 rows x 36 columns]"
     },
     "execution_count": 59,
     "metadata": {},
     "output_type": "execute_result"
    }
   ],
   "source": [
    "df_num.describe()"
   ]
  },
  {
   "cell_type": "code",
   "execution_count": 60,
   "metadata": {},
   "outputs": [
    {
     "data": {
      "text/html": "<div>\n<style scoped>\n    .dataframe tbody tr th:only-of-type {\n        vertical-align: middle;\n    }\n\n    .dataframe tbody tr th {\n        vertical-align: top;\n    }\n\n    .dataframe thead th {\n        text-align: right;\n    }\n</style>\n<table border=\"1\" class=\"dataframe\">\n  <thead>\n    <tr style=\"text-align: right;\">\n      <th></th>\n      <th>MSZoning</th>\n      <th>Street</th>\n      <th>Alley</th>\n      <th>LotShape</th>\n      <th>LandContour</th>\n      <th>Utilities</th>\n      <th>LotConfig</th>\n      <th>LandSlope</th>\n      <th>Neighborhood</th>\n      <th>Condition1</th>\n      <th>...</th>\n      <th>GarageType</th>\n      <th>GarageFinish</th>\n      <th>GarageQual</th>\n      <th>GarageCond</th>\n      <th>PavedDrive</th>\n      <th>PoolQC</th>\n      <th>Fence</th>\n      <th>MiscFeature</th>\n      <th>SaleType</th>\n      <th>SaleCondition</th>\n    </tr>\n  </thead>\n  <tbody>\n    <tr>\n      <th>count</th>\n      <td>1455</td>\n      <td>1459</td>\n      <td>107</td>\n      <td>1459</td>\n      <td>1459</td>\n      <td>1457</td>\n      <td>1459</td>\n      <td>1459</td>\n      <td>1459</td>\n      <td>1459</td>\n      <td>...</td>\n      <td>1383</td>\n      <td>1381</td>\n      <td>1381</td>\n      <td>1381</td>\n      <td>1459</td>\n      <td>3</td>\n      <td>290</td>\n      <td>51</td>\n      <td>1458</td>\n      <td>1459</td>\n    </tr>\n    <tr>\n      <th>unique</th>\n      <td>5</td>\n      <td>2</td>\n      <td>2</td>\n      <td>4</td>\n      <td>4</td>\n      <td>1</td>\n      <td>5</td>\n      <td>3</td>\n      <td>25</td>\n      <td>9</td>\n      <td>...</td>\n      <td>6</td>\n      <td>3</td>\n      <td>4</td>\n      <td>5</td>\n      <td>3</td>\n      <td>2</td>\n      <td>4</td>\n      <td>3</td>\n      <td>9</td>\n      <td>6</td>\n    </tr>\n    <tr>\n      <th>top</th>\n      <td>RL</td>\n      <td>Pave</td>\n      <td>Grvl</td>\n      <td>Reg</td>\n      <td>Lvl</td>\n      <td>AllPub</td>\n      <td>Inside</td>\n      <td>Gtl</td>\n      <td>NAmes</td>\n      <td>Norm</td>\n      <td>...</td>\n      <td>Attchd</td>\n      <td>Unf</td>\n      <td>TA</td>\n      <td>TA</td>\n      <td>Y</td>\n      <td>Ex</td>\n      <td>MnPrv</td>\n      <td>Shed</td>\n      <td>WD</td>\n      <td>Normal</td>\n    </tr>\n    <tr>\n      <th>freq</th>\n      <td>1114</td>\n      <td>1453</td>\n      <td>70</td>\n      <td>934</td>\n      <td>1311</td>\n      <td>1457</td>\n      <td>1081</td>\n      <td>1396</td>\n      <td>218</td>\n      <td>1251</td>\n      <td>...</td>\n      <td>853</td>\n      <td>625</td>\n      <td>1293</td>\n      <td>1328</td>\n      <td>1301</td>\n      <td>2</td>\n      <td>172</td>\n      <td>46</td>\n      <td>1258</td>\n      <td>1204</td>\n    </tr>\n  </tbody>\n</table>\n<p>4 rows × 43 columns</p>\n</div>",
      "text/plain": "       MSZoning Street Alley LotShape LandContour Utilities LotConfig  \\\ncount      1455   1459   107     1459        1459      1457      1459   \nunique        5      2     2        4           4         1         5   \ntop          RL   Pave  Grvl      Reg         Lvl    AllPub    Inside   \nfreq       1114   1453    70      934        1311      1457      1081   \n\n       LandSlope Neighborhood Condition1  ... GarageType GarageFinish  \\\ncount       1459         1459       1459  ...       1383         1381   \nunique         3           25          9  ...          6            3   \ntop          Gtl        NAmes       Norm  ...     Attchd          Unf   \nfreq        1396          218       1251  ...        853          625   \n\n       GarageQual GarageCond PavedDrive PoolQC  Fence MiscFeature SaleType  \\\ncount        1381       1381       1459      3    290          51     1458   \nunique          4          5          3      2      4           3        9   \ntop            TA         TA          Y     Ex  MnPrv        Shed       WD   \nfreq         1293       1328       1301      2    172          46     1258   \n\n       SaleCondition  \ncount           1459  \nunique             6  \ntop           Normal  \nfreq            1204  \n\n[4 rows x 43 columns]"
     },
     "execution_count": 60,
     "metadata": {},
     "output_type": "execute_result"
    }
   ],
   "source": [
    "df_obj.describe()"
   ]
  },
  {
   "cell_type": "markdown",
   "execution_count": null,
   "metadata": {},
   "outputs": [],
   "source": [
    "# String Encoding\n",
    "\n",
    "We got 43 columns of text --> should be modified.\n",
    "Moreover some of them are:\n",
    "* 12: filled with score string ('Excellent', 'Good', etc...)\n",
    "* 5: filled with similar to score string (Good, average, below,...)\n",
    "* ?: with qualitative string:\n",
    "    - [brick, stone, wood]\n",
    "    - [finished,..]\n",
    "    - [paved, dirt,..]\n",
    "    - [privacy,...]\n",
    "\n",
    "We got to modify this string into numerical value. To do so we will:\n",
    "* find all columns with the string specified above\n",
    "* convert those columns with numerical value (based on the strings)\n",
    "* repeat for each column tipe\n",
    "\n",
    "For the others strings columns we can compare their value to the house price and try to find a first level correlation (for example neighrborhood or garage,...)"
   ]
  },
  {
   "cell_type": "code",
   "execution_count": 61,
   "metadata": {},
   "outputs": [],
   "source": [
    "def conv_col_str2num(df:pd.DataFrame, str_list:List[str], num_list:List[float]=None)->pd.DataFrame:\n",
    "    \"\"\"\n",
    "    Find columns which contains all strings of the string list.\n",
    "    Replace those columns strings with the numeric list provided.\n",
    "    Return the new dataframe of those columns and the columns name\n",
    "\n",
    "    Args:\n",
    "        df (pd.DataFrame): this to convert\n",
    "        str_list (List[str]): Categories to find and to be converted. Expected to be from best to worse\n",
    "        num_list (List[int], optional): score to replace each of the categories. defaults to a an automatoc score from best to worse.\n",
    "    \n",
    "    Returns:\n",
    "        pd.DataFrame: contains converted categorical values to numeric score\n",
    "    \"\"\"\n",
    "\n",
    "    if num_list is None:\n",
    "        M = len(str_list) - 1\n",
    "        num_list = [x/M for x in range(M, -1, -1)]\n",
    "\n",
    "    x_str = df.isin(str_list).all()\n",
    "    col = df.columns[x_str]\n",
    "    df_rep = df[col].replace(str_list, num_list)\n",
    "    df_new = df.drop(col, axis=1).join(df_rep)\n",
    "\n",
    "    return df_new"
   ]
  },
  {
   "cell_type": "code",
   "execution_count": 62,
   "metadata": {},
   "outputs": [
    {
     "name": "stdout",
     "output_type": "stream",
     "text": "object     38\nfloat64     5\ndtype: int64\n"
    },
    {
     "data": {
      "text/html": "<div>\n<style scoped>\n    .dataframe tbody tr th:only-of-type {\n        vertical-align: middle;\n    }\n\n    .dataframe tbody tr th {\n        vertical-align: top;\n    }\n\n    .dataframe thead th {\n        text-align: right;\n    }\n</style>\n<table border=\"1\" class=\"dataframe\">\n  <thead>\n    <tr style=\"text-align: right;\">\n      <th></th>\n      <th>MSZoning</th>\n      <th>Street</th>\n      <th>Alley</th>\n      <th>Utilities</th>\n      <th>LotConfig</th>\n      <th>Neighborhood</th>\n      <th>Condition1</th>\n      <th>Condition2</th>\n      <th>BldgType</th>\n      <th>HouseStyle</th>\n      <th>...</th>\n      <th>SaleType</th>\n      <th>SaleCondition</th>\n      <th>ExterQual</th>\n      <th>ExterCond</th>\n      <th>HeatingQC</th>\n      <th>CentralAir</th>\n      <th>PavedDrive</th>\n      <th>LandSlope</th>\n      <th>LandContour</th>\n      <th>LotShape</th>\n    </tr>\n    <tr>\n      <th>Id</th>\n      <th></th>\n      <th></th>\n      <th></th>\n      <th></th>\n      <th></th>\n      <th></th>\n      <th></th>\n      <th></th>\n      <th></th>\n      <th></th>\n      <th></th>\n      <th></th>\n      <th></th>\n      <th></th>\n      <th></th>\n      <th></th>\n      <th></th>\n      <th></th>\n      <th></th>\n      <th></th>\n      <th></th>\n    </tr>\n  </thead>\n  <tbody>\n    <tr>\n      <th>1461</th>\n      <td>RH</td>\n      <td>Pave</td>\n      <td>NaN</td>\n      <td>AllPub</td>\n      <td>Inside</td>\n      <td>NAmes</td>\n      <td>Feedr</td>\n      <td>Norm</td>\n      <td>1Fam</td>\n      <td>1Story</td>\n      <td>...</td>\n      <td>WD</td>\n      <td>Normal</td>\n      <td>0.6</td>\n      <td>0.6</td>\n      <td>0.6</td>\n      <td>1.0</td>\n      <td>1.0</td>\n      <td>1.0</td>\n      <td>1.000000</td>\n      <td>1.000000</td>\n    </tr>\n    <tr>\n      <th>1462</th>\n      <td>RL</td>\n      <td>Pave</td>\n      <td>NaN</td>\n      <td>AllPub</td>\n      <td>Corner</td>\n      <td>NAmes</td>\n      <td>Norm</td>\n      <td>Norm</td>\n      <td>1Fam</td>\n      <td>1Story</td>\n      <td>...</td>\n      <td>WD</td>\n      <td>Normal</td>\n      <td>0.6</td>\n      <td>0.6</td>\n      <td>0.6</td>\n      <td>1.0</td>\n      <td>1.0</td>\n      <td>1.0</td>\n      <td>1.000000</td>\n      <td>0.666667</td>\n    </tr>\n    <tr>\n      <th>1463</th>\n      <td>RL</td>\n      <td>Pave</td>\n      <td>NaN</td>\n      <td>AllPub</td>\n      <td>Inside</td>\n      <td>Gilbert</td>\n      <td>Norm</td>\n      <td>Norm</td>\n      <td>1Fam</td>\n      <td>2Story</td>\n      <td>...</td>\n      <td>WD</td>\n      <td>Normal</td>\n      <td>0.6</td>\n      <td>0.6</td>\n      <td>0.8</td>\n      <td>1.0</td>\n      <td>1.0</td>\n      <td>1.0</td>\n      <td>1.000000</td>\n      <td>0.666667</td>\n    </tr>\n    <tr>\n      <th>1464</th>\n      <td>RL</td>\n      <td>Pave</td>\n      <td>NaN</td>\n      <td>AllPub</td>\n      <td>Inside</td>\n      <td>Gilbert</td>\n      <td>Norm</td>\n      <td>Norm</td>\n      <td>1Fam</td>\n      <td>2Story</td>\n      <td>...</td>\n      <td>WD</td>\n      <td>Normal</td>\n      <td>0.6</td>\n      <td>0.6</td>\n      <td>1</td>\n      <td>1.0</td>\n      <td>1.0</td>\n      <td>1.0</td>\n      <td>1.000000</td>\n      <td>0.666667</td>\n    </tr>\n    <tr>\n      <th>1465</th>\n      <td>RL</td>\n      <td>Pave</td>\n      <td>NaN</td>\n      <td>AllPub</td>\n      <td>Inside</td>\n      <td>StoneBr</td>\n      <td>Norm</td>\n      <td>Norm</td>\n      <td>TwnhsE</td>\n      <td>1Story</td>\n      <td>...</td>\n      <td>WD</td>\n      <td>Normal</td>\n      <td>0.8</td>\n      <td>0.6</td>\n      <td>1</td>\n      <td>1.0</td>\n      <td>1.0</td>\n      <td>1.0</td>\n      <td>0.333333</td>\n      <td>0.666667</td>\n    </tr>\n    <tr>\n      <th>...</th>\n      <td>...</td>\n      <td>...</td>\n      <td>...</td>\n      <td>...</td>\n      <td>...</td>\n      <td>...</td>\n      <td>...</td>\n      <td>...</td>\n      <td>...</td>\n      <td>...</td>\n      <td>...</td>\n      <td>...</td>\n      <td>...</td>\n      <td>...</td>\n      <td>...</td>\n      <td>...</td>\n      <td>...</td>\n      <td>...</td>\n      <td>...</td>\n      <td>...</td>\n      <td>...</td>\n    </tr>\n    <tr>\n      <th>2915</th>\n      <td>RM</td>\n      <td>Pave</td>\n      <td>NaN</td>\n      <td>AllPub</td>\n      <td>Inside</td>\n      <td>MeadowV</td>\n      <td>Norm</td>\n      <td>Norm</td>\n      <td>Twnhs</td>\n      <td>2Story</td>\n      <td>...</td>\n      <td>WD</td>\n      <td>Normal</td>\n      <td>0.6</td>\n      <td>0.6</td>\n      <td>0.8</td>\n      <td>1.0</td>\n      <td>1.0</td>\n      <td>1.0</td>\n      <td>1.000000</td>\n      <td>1.000000</td>\n    </tr>\n    <tr>\n      <th>2916</th>\n      <td>RM</td>\n      <td>Pave</td>\n      <td>NaN</td>\n      <td>AllPub</td>\n      <td>Inside</td>\n      <td>MeadowV</td>\n      <td>Norm</td>\n      <td>Norm</td>\n      <td>TwnhsE</td>\n      <td>2Story</td>\n      <td>...</td>\n      <td>WD</td>\n      <td>Abnorml</td>\n      <td>0.6</td>\n      <td>0.6</td>\n      <td>0.6</td>\n      <td>1.0</td>\n      <td>1.0</td>\n      <td>1.0</td>\n      <td>1.000000</td>\n      <td>1.000000</td>\n    </tr>\n    <tr>\n      <th>2917</th>\n      <td>RL</td>\n      <td>Pave</td>\n      <td>NaN</td>\n      <td>AllPub</td>\n      <td>Inside</td>\n      <td>Mitchel</td>\n      <td>Norm</td>\n      <td>Norm</td>\n      <td>1Fam</td>\n      <td>1Story</td>\n      <td>...</td>\n      <td>WD</td>\n      <td>Abnorml</td>\n      <td>0.6</td>\n      <td>0.6</td>\n      <td>1</td>\n      <td>1.0</td>\n      <td>1.0</td>\n      <td>1.0</td>\n      <td>1.000000</td>\n      <td>1.000000</td>\n    </tr>\n    <tr>\n      <th>2918</th>\n      <td>RL</td>\n      <td>Pave</td>\n      <td>NaN</td>\n      <td>AllPub</td>\n      <td>Inside</td>\n      <td>Mitchel</td>\n      <td>Norm</td>\n      <td>Norm</td>\n      <td>1Fam</td>\n      <td>SFoyer</td>\n      <td>...</td>\n      <td>WD</td>\n      <td>Normal</td>\n      <td>0.6</td>\n      <td>0.6</td>\n      <td>0.6</td>\n      <td>1.0</td>\n      <td>1.0</td>\n      <td>1.0</td>\n      <td>1.000000</td>\n      <td>1.000000</td>\n    </tr>\n    <tr>\n      <th>2919</th>\n      <td>RL</td>\n      <td>Pave</td>\n      <td>NaN</td>\n      <td>AllPub</td>\n      <td>Inside</td>\n      <td>Mitchel</td>\n      <td>Norm</td>\n      <td>Norm</td>\n      <td>1Fam</td>\n      <td>2Story</td>\n      <td>...</td>\n      <td>WD</td>\n      <td>Normal</td>\n      <td>0.6</td>\n      <td>0.6</td>\n      <td>1</td>\n      <td>1.0</td>\n      <td>1.0</td>\n      <td>0.5</td>\n      <td>1.000000</td>\n      <td>1.000000</td>\n    </tr>\n  </tbody>\n</table>\n<p>1459 rows × 43 columns</p>\n</div>",
      "text/plain": "     MSZoning Street Alley Utilities LotConfig Neighborhood Condition1  \\\nId                                                                       \n1461       RH   Pave   NaN    AllPub    Inside        NAmes      Feedr   \n1462       RL   Pave   NaN    AllPub    Corner        NAmes       Norm   \n1463       RL   Pave   NaN    AllPub    Inside      Gilbert       Norm   \n1464       RL   Pave   NaN    AllPub    Inside      Gilbert       Norm   \n1465       RL   Pave   NaN    AllPub    Inside      StoneBr       Norm   \n...       ...    ...   ...       ...       ...          ...        ...   \n2915       RM   Pave   NaN    AllPub    Inside      MeadowV       Norm   \n2916       RM   Pave   NaN    AllPub    Inside      MeadowV       Norm   \n2917       RL   Pave   NaN    AllPub    Inside      Mitchel       Norm   \n2918       RL   Pave   NaN    AllPub    Inside      Mitchel       Norm   \n2919       RL   Pave   NaN    AllPub    Inside      Mitchel       Norm   \n\n     Condition2 BldgType HouseStyle  ... SaleType SaleCondition ExterQual  \\\nId                                   ...                                    \n1461       Norm     1Fam     1Story  ...       WD        Normal       0.6   \n1462       Norm     1Fam     1Story  ...       WD        Normal       0.6   \n1463       Norm     1Fam     2Story  ...       WD        Normal       0.6   \n1464       Norm     1Fam     2Story  ...       WD        Normal       0.6   \n1465       Norm   TwnhsE     1Story  ...       WD        Normal       0.8   \n...         ...      ...        ...  ...      ...           ...       ...   \n2915       Norm    Twnhs     2Story  ...       WD        Normal       0.6   \n2916       Norm   TwnhsE     2Story  ...       WD       Abnorml       0.6   \n2917       Norm     1Fam     1Story  ...       WD       Abnorml       0.6   \n2918       Norm     1Fam     SFoyer  ...       WD        Normal       0.6   \n2919       Norm     1Fam     2Story  ...       WD        Normal       0.6   \n\n     ExterCond HeatingQC CentralAir PavedDrive LandSlope LandContour  LotShape  \nId                                                                              \n1461       0.6       0.6        1.0        1.0       1.0    1.000000  1.000000  \n1462       0.6       0.6        1.0        1.0       1.0    1.000000  0.666667  \n1463       0.6       0.8        1.0        1.0       1.0    1.000000  0.666667  \n1464       0.6         1        1.0        1.0       1.0    1.000000  0.666667  \n1465       0.6         1        1.0        1.0       1.0    0.333333  0.666667  \n...        ...       ...        ...        ...       ...         ...       ...  \n2915       0.6       0.8        1.0        1.0       1.0    1.000000  1.000000  \n2916       0.6       0.6        1.0        1.0       1.0    1.000000  1.000000  \n2917       0.6         1        1.0        1.0       1.0    1.000000  1.000000  \n2918       0.6       0.6        1.0        1.0       1.0    1.000000  1.000000  \n2919       0.6         1        1.0        1.0       0.5    1.000000  1.000000  \n\n[1459 rows x 43 columns]"
     },
     "execution_count": 62,
     "metadata": {},
     "output_type": "execute_result"
    }
   ],
   "source": [
    "str_lists = [\n",
    "    ['Ex', 'Gd', 'TA', 'Fa', 'Po', 'NA'],\n",
    "    ['Ex', 'Gd', 'TA', 'Fa', 'Po'],\n",
    "    ['Ex', 'Gd', 'TA', 'Fa' 'NA'],\n",
    "    ['GdPrv', 'MnPrv', 'GdWo', 'MnWw', 'NA'],\n",
    "    ['Y', 'P', 'N'],\n",
    "    ['Fin', 'RFn', 'Unf', 'NA'],\n",
    "    ['Typ', 'Min1', 'Min2', 'Mod', 'Maj1', 'Maj2', 'Sev', 'Sal'],\n",
    "    ['Y', 'N'],\n",
    "    ['GLQ', 'ALQ', 'BLQ', 'Rec', 'LwQ', 'Ubf', 'NA'],\n",
    "    ['Gd', 'Av', 'Mn', 'No', 'NA'],\n",
    "    ['Gtl', 'Mod', 'Sev'],\n",
    "    ['AllPub', 'NoSewr', 'NoSeWa','ELO'],\n",
    "    ['Lvl', 'Bnk', 'HLS', 'Low'],\n",
    "    ['Reg', 'IR1', 'IR2', 'IR3'],\n",
    "]\n",
    "\n",
    "for str_list in str_lists:\n",
    "    df_obj = conv_col_str2num(df_obj, str_list)\n",
    "\n",
    "print(df_obj.dtypes.value_counts())\n",
    "df_obj"
   ]
  },
  {
   "cell_type": "code",
   "execution_count": null,
   "metadata": {},
   "outputs": [],
   "source": []
  }
 ]
}