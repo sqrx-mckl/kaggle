{
 "cells": [
  {
   "cell_type": "code",
   "execution_count": 1,
   "metadata": {},
   "outputs": [
    {
     "output_type": "display_data",
     "data": {
      "text/plain": "'2.2.0'"
     },
     "metadata": {}
    }
   ],
   "source": [
    "import pandas as pd\n",
    "import numpy as np\n",
    "import spacy\n",
    "import tensorflow as tf\n",
    "from IPython.core.interactiveshell import InteractiveShell\n",
    "InteractiveShell.ast_node_interactivity = 'all'\n",
    "from pathlib import Path\n",
    "import transformers\n",
    "\n",
    "display(tf.__version__)"
   ]
  },
  {
   "cell_type": "code",
   "execution_count": 2,
   "metadata": {},
   "outputs": [],
   "source": [
    "SEED = 1\n",
    "folderpath = Path(r'data/tweet-sentiment-extraction')\n",
    "tf.random.set_seed(SEED)\n",
    "np.random.seed(SEED)"
   ]
  },
  {
   "cell_type": "code",
   "execution_count": 3,
   "metadata": {},
   "outputs": [
    {
     "output_type": "execute_result",
     "data": {
      "text/plain": "           textID                                               text  \\\n0      cb774db0d1                I`d have responded, if I were going   \n1      549e992a42      Sooo SAD I will miss you here in San Diego!!!   \n2      088c60f138                          my boss is bullying me...   \n3      9642c003ef                     what interview! leave me alone   \n4      358bd9e861   Sons of ****, why couldn`t they put them on t...   \n...           ...                                                ...   \n27476  4eac33d1c0   wish we could come see u on Denver  husband l...   \n27477  4f4c4fc327   I`ve wondered about rake to.  The client has ...   \n27478  f67aae2310   Yay good for both of you. Enjoy the break - y...   \n27479  ed167662a5                         But it was worth it  ****.   \n27480  6f7127d9d7     All this flirting going on - The ATG smiles...   \n\n                                           selected_text sentiment  \n0                    I`d have responded, if I were going   neutral  \n1                                               Sooo SAD  negative  \n2                                            bullying me  negative  \n3                                         leave me alone  negative  \n4                                          Sons of ****,  negative  \n...                                                  ...       ...  \n27476                                             d lost  negative  \n27477                                      , don`t force  negative  \n27478                          Yay good for both of you.  positive  \n27479                         But it was worth it  ****.  positive  \n27480  All this flirting going on - The ATG smiles. Y...   neutral  \n\n[27481 rows x 4 columns]",
      "text/html": "<div>\n<style scoped>\n    .dataframe tbody tr th:only-of-type {\n        vertical-align: middle;\n    }\n\n    .dataframe tbody tr th {\n        vertical-align: top;\n    }\n\n    .dataframe thead th {\n        text-align: right;\n    }\n</style>\n<table border=\"1\" class=\"dataframe\">\n  <thead>\n    <tr style=\"text-align: right;\">\n      <th></th>\n      <th>textID</th>\n      <th>text</th>\n      <th>selected_text</th>\n      <th>sentiment</th>\n    </tr>\n  </thead>\n  <tbody>\n    <tr>\n      <th>0</th>\n      <td>cb774db0d1</td>\n      <td>I`d have responded, if I were going</td>\n      <td>I`d have responded, if I were going</td>\n      <td>neutral</td>\n    </tr>\n    <tr>\n      <th>1</th>\n      <td>549e992a42</td>\n      <td>Sooo SAD I will miss you here in San Diego!!!</td>\n      <td>Sooo SAD</td>\n      <td>negative</td>\n    </tr>\n    <tr>\n      <th>2</th>\n      <td>088c60f138</td>\n      <td>my boss is bullying me...</td>\n      <td>bullying me</td>\n      <td>negative</td>\n    </tr>\n    <tr>\n      <th>3</th>\n      <td>9642c003ef</td>\n      <td>what interview! leave me alone</td>\n      <td>leave me alone</td>\n      <td>negative</td>\n    </tr>\n    <tr>\n      <th>4</th>\n      <td>358bd9e861</td>\n      <td>Sons of ****, why couldn`t they put them on t...</td>\n      <td>Sons of ****,</td>\n      <td>negative</td>\n    </tr>\n    <tr>\n      <th>...</th>\n      <td>...</td>\n      <td>...</td>\n      <td>...</td>\n      <td>...</td>\n    </tr>\n    <tr>\n      <th>27476</th>\n      <td>4eac33d1c0</td>\n      <td>wish we could come see u on Denver  husband l...</td>\n      <td>d lost</td>\n      <td>negative</td>\n    </tr>\n    <tr>\n      <th>27477</th>\n      <td>4f4c4fc327</td>\n      <td>I`ve wondered about rake to.  The client has ...</td>\n      <td>, don`t force</td>\n      <td>negative</td>\n    </tr>\n    <tr>\n      <th>27478</th>\n      <td>f67aae2310</td>\n      <td>Yay good for both of you. Enjoy the break - y...</td>\n      <td>Yay good for both of you.</td>\n      <td>positive</td>\n    </tr>\n    <tr>\n      <th>27479</th>\n      <td>ed167662a5</td>\n      <td>But it was worth it  ****.</td>\n      <td>But it was worth it  ****.</td>\n      <td>positive</td>\n    </tr>\n    <tr>\n      <th>27480</th>\n      <td>6f7127d9d7</td>\n      <td>All this flirting going on - The ATG smiles...</td>\n      <td>All this flirting going on - The ATG smiles. Y...</td>\n      <td>neutral</td>\n    </tr>\n  </tbody>\n</table>\n<p>27481 rows × 4 columns</p>\n</div>"
     },
     "metadata": {},
     "execution_count": 3
    }
   ],
   "source": [
    "df_train = pd.read_csv(Path(folderpath, 'train.csv'))\n",
    "df_train"
   ]
  },
  {
   "cell_type": "code",
   "execution_count": 4,
   "metadata": {},
   "outputs": [],
   "source": [
    "tokenizer = transformers.RobertaTokenizerFast.from_pretrained('roberta-large')"
   ]
  },
  {
   "cell_type": "code",
   "execution_count": 5,
   "metadata": {},
   "outputs": [
    {
     "output_type": "execute_result",
     "data": {
      "text/plain": "' Sooo SAD I will miss you here in San Diego!!!'"
     },
     "metadata": {},
     "execution_count": 5
    },
    {
     "output_type": "execute_result",
     "data": {
      "text/plain": "['ĠSo',\n 'oo',\n 'ĠS',\n 'AD',\n 'ĠI',\n 'Ġwill',\n 'Ġmiss',\n 'Ġyou',\n 'Ġhere',\n 'Ġin',\n 'ĠSan',\n 'ĠDiego',\n '!!!']"
     },
     "metadata": {},
     "execution_count": 5
    }
   ],
   "source": [
    "sentence_id = 1#27479\n",
    "df_train['text'][sentence_id]\n",
    "tokenizer.tokenize(df_train['text'][sentence_id])"
   ]
  },
  {
   "cell_type": "code",
   "execution_count": 11,
   "metadata": {},
   "outputs": [
    {
     "output_type": "execute_result",
     "data": {
      "text/plain": "array([list(['ĠI', '`', 'd', 'Ġhave', 'Ġresponded', ',', 'Ġif', 'ĠI', 'Ġwere', 'Ġgoing']),\n       list(['ĠSo', 'oo', 'ĠS', 'AD', 'ĠI', 'Ġwill', 'Ġmiss', 'Ġyou', 'Ġhere', 'Ġin', 'ĠSan', 'ĠDiego', '!!!']),\n       list(['Ġmy', 'Ġboss', 'Ġis', 'Ġbullying', 'Ġme', '...']), ...,\n       list(['ĠY', 'ay', 'Ġgood', 'Ġfor', 'Ġboth', 'Ġof', 'Ġyou', '.', 'ĠEnjoy', 'Ġthe', 'Ġbreak', 'Ġ-', 'Ġyou', 'Ġprobably', 'Ġneed', 'Ġit', 'Ġafter', 'Ġsuch', 'Ġhe', 'ctic', 'Ġweekend', 'Ġ', 'ĠTake', 'Ġcare', 'Ġhun', 'Ġx', 'xxx']),\n       list(['ĠBut', 'Ġit', 'Ġwas', 'Ġworth', 'Ġit', 'Ġ', 'Ġ****', '.']),\n       list(['Ġ', 'Ġ', 'ĠAll', 'Ġthis', 'Ġfl', 'irting', 'Ġgoing', 'Ġon', 'Ġ-', 'ĠThe', 'ĠAT', 'G', 'Ġsmiles', '.', 'ĠY', 'ay', '.', 'Ġ', 'Ġ((', 'h', 'ugs', '))'])],\n      dtype=object)"
     },
     "metadata": {},
     "execution_count": 11
    }
   ],
   "source": [
    "train_token = df_train['text'].map(\n",
    "    lambda x: tokenizer.tokenize(str(x))\n",
    ").to_numpy()\n",
    "train_token"
   ]
  },
  {
   "cell_type": "code",
   "execution_count": 14,
   "metadata": {},
   "outputs": [
    {
     "output_type": "error",
     "ename": "AttributeError",
     "evalue": "module 'transformers' has no attribute 'RobertaModel'",
     "traceback": [
      "\u001b[0;31m---------------------------------------------------------------------------\u001b[0m",
      "\u001b[0;31mAttributeError\u001b[0m                            Traceback (most recent call last)",
      "\u001b[0;32m<ipython-input-14-aedd5f60ec75>\u001b[0m in \u001b[0;36m<module>\u001b[0;34m\u001b[0m\n\u001b[1;32m      1\u001b[0m \u001b[0mconfig\u001b[0m \u001b[0;34m=\u001b[0m \u001b[0mtransformers\u001b[0m\u001b[0;34m.\u001b[0m\u001b[0mRobertaConfig\u001b[0m\u001b[0;34m.\u001b[0m\u001b[0mfrom_pretrained\u001b[0m\u001b[0;34m(\u001b[0m\u001b[0;34m\"roberta-base\"\u001b[0m\u001b[0;34m,\u001b[0m \u001b[0moutputhidden_states\u001b[0m\u001b[0;34m=\u001b[0m\u001b[0;32mTrue\u001b[0m\u001b[0;34m)\u001b[0m\u001b[0;34m\u001b[0m\u001b[0;34m\u001b[0m\u001b[0m\n\u001b[0;32m----> 2\u001b[0;31m \u001b[0mmodel\u001b[0m \u001b[0;34m=\u001b[0m \u001b[0mtransformers\u001b[0m\u001b[0;34m.\u001b[0m\u001b[0mRobertaModel\u001b[0m\u001b[0;34m(\u001b[0m\u001b[0mconfig\u001b[0m\u001b[0;34m)\u001b[0m\u001b[0;34m\u001b[0m\u001b[0;34m\u001b[0m\u001b[0m\n\u001b[0m",
      "\u001b[0;31mAttributeError\u001b[0m: module 'transformers' has no attribute 'RobertaModel'"
     ]
    }
   ],
   "source": [
    "config = transformers.RobertaConfig.from_pretrained(\"roberta-base\", outputhidden_states=True)\n",
    "model = transformers.RobertaModel(config)"
   ]
  },
  {
   "cell_type": "code",
   "execution_count": null,
   "metadata": {},
   "outputs": [],
   "source": []
  }
 ],
 "metadata": {
  "language_info": {
   "codemirror_mode": {
    "name": "ipython",
    "version": 3
   },
   "file_extension": ".py",
   "mimetype": "text/x-python",
   "name": "python",
   "nbconvert_exporter": "python",
   "pygments_lexer": "ipython3",
   "version": "3.7.7-final"
  },
  "orig_nbformat": 2,
  "kernelspec": {
   "name": "python37764bit0c4c6548c9c84e2fae654109a0bf4cdb",
   "display_name": "Python 3.7.7 64-bit"
  }
 },
 "nbformat": 4,
 "nbformat_minor": 2
}